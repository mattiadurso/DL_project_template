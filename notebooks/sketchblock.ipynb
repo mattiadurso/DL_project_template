{
 "cells": [
  {
   "cell_type": "code",
   "execution_count": 1,
   "metadata": {},
   "outputs": [
    {
     "data": {
      "text/plain": [
       "'cuda'"
      ]
     },
     "execution_count": 1,
     "metadata": {},
     "output_type": "execute_result"
    }
   ],
   "source": [
    "# add src to the notebook path\n",
    "import sys\n",
    "sys.path.append(\"../src/\")\n",
    "\n",
    "# import from src\n",
    "from utils import *\n",
    "from models.model import *\n",
    "from data.dataset import *\n",
    "from constants import *\n",
    "\n",
    "\n",
    "# import python libraries\n",
    "import os\n",
    "import PIL\n",
    "import glob\n",
    "import wandb\n",
    "import torch\n",
    "import torch.nn as nn\n",
    "import numpy as np\n",
    "import matplotlib.pyplot as plt\n",
    "import torchvision.transforms as T\n",
    "from torch.utils.data import DataLoader\n",
    "from torchinfo import summary\n",
    "\n",
    "\n",
    "os.environ['WANDB_API_KEY'] = wandb_key\n",
    "os.environ['WANDB_NOTEBOOK_NAME'] = os.getcwd()\n",
    "device = \"cuda\" if torch.cuda.is_available() else \"cpu\"\n",
    "device"
   ]
  },
  {
   "cell_type": "markdown",
   "metadata": {},
   "source": [
    "# Training"
   ]
  },
  {
   "cell_type": "code",
   "execution_count": 2,
   "metadata": {},
   "outputs": [
    {
     "data": {
      "text/plain": [
       "{'data_path': '../data/mp3dlayout/validation',\n",
       " 'image_size': 256,\n",
       " 'model': {'config': 'model_config.yaml'},\n",
       " 'training': {'epochs': 10,\n",
       "  'lr': 0.002,\n",
       "  'batch_size': 32,\n",
       "  'shuffle': True,\n",
       "  'loss_fn': 'mse',\n",
       "  'optim': 'sgd',\n",
       "  'scheduler': 'None'},\n",
       " 'wandb': {'mode': 'disabled'}}"
      ]
     },
     "execution_count": 2,
     "metadata": {},
     "output_type": "execute_result"
    }
   ],
   "source": [
    "config = load_yaml_as_dict(\"../config/config.yaml\")\n",
    "config"
   ]
  },
  {
   "cell_type": "code",
   "execution_count": 3,
   "metadata": {},
   "outputs": [
    {
     "data": {
      "application/vnd.jupyter.widget-view+json": {
       "model_id": "fb60f82ad5b440dfa1630375451ebfa2",
       "version_major": 2,
       "version_minor": 0
      },
      "text/plain": [
       "  0%|          | 0/456 [00:00<?, ?it/s]"
      ]
     },
     "metadata": {},
     "output_type": "display_data"
    },
    {
     "data": {
      "application/vnd.jupyter.widget-view+json": {
       "model_id": "db31ae0dfa934b2aaa66e53e43cbbe97",
       "version_major": 2,
       "version_minor": 0
      },
      "text/plain": [
       "  0%|          | 0/456 [00:00<?, ?it/s]"
      ]
     },
     "metadata": {},
     "output_type": "display_data"
    }
   ],
   "source": [
    "testing_images = config[\"data_path\"]\n",
    "\n",
    "image_size = (config[\"image_size\"], config[\"image_size\"])\n",
    "transform = T.Compose([\n",
    "        #T.ToPILImage(),\n",
    "        #T.CenterCrop(0.75 * 64),\n",
    "        T.Resize(image_size),\n",
    "        #T.RandomResizedCrop(image_size),\n",
    "        #T.RandomHorizontalFlip(),\n",
    "        T.ToTensor()\n",
    "        ])\n",
    "\n",
    "train_set = MP3DL_Dataset(testing_images, transform, load_all=True)\n",
    "train_loader = DataLoader(train_set, batch_size=config[\"training\"][\"batch_size\"], shuffle=config[\"training\"][\"shuffle\"])"
   ]
  },
  {
   "cell_type": "code",
   "execution_count": 4,
   "metadata": {},
   "outputs": [
    {
     "data": {
      "text/plain": [
       "=================================================================\n",
       "Layer (type:depth-idx)                   Param #\n",
       "=================================================================\n",
       "MyModel                                  --\n",
       "├─Sequential: 1-1                        --\n",
       "│    └─Conv2d: 2-1                       12\n",
       "│    └─SiLU: 2-2                         --\n",
       "│    └─Conv2d: 2-3                       12\n",
       "│    └─SiLU: 2-4                         --\n",
       "│    └─Conv2d: 2-5                       4\n",
       "│    └─SiLU: 2-6                         --\n",
       "=================================================================\n",
       "Total params: 28\n",
       "Trainable params: 28\n",
       "Non-trainable params: 0\n",
       "================================================================="
      ]
     },
     "execution_count": 4,
     "metadata": {},
     "output_type": "execute_result"
    }
   ],
   "source": [
    "model = MyModel()\n",
    "\n",
    "summary(model)"
   ]
  },
  {
   "cell_type": "code",
   "execution_count": 5,
   "metadata": {},
   "outputs": [],
   "source": [
    "loss_fn = select_loss_function(config[\"training\"][\"loss_fn\"])\n",
    "# Optimizers specified in the torch.optim package\n",
    "optimizer = select_optimizer(model, config[\"training\"][\"optim\"], learning_rate=config[\"training\"][\"lr\"], momentum=0.9)\n",
    "scheduler = None #select_scheduler(config[\"training\"][\"scheduler\"], optimizer, last_epoch=-1, **kwargs)"
   ]
  },
  {
   "cell_type": "code",
   "execution_count": 6,
   "metadata": {},
   "outputs": [
    {
     "name": "stderr",
     "output_type": "stream",
     "text": [
      "\u001b[34m\u001b[1mwandb\u001b[0m: Currently logged in as: \u001b[33mmattiadurso98\u001b[0m (\u001b[33mmattiaduso\u001b[0m). Use \u001b[1m`wandb login --relogin`\u001b[0m to force relogin\n"
     ]
    },
    {
     "data": {
      "text/html": [
       "Tracking run with wandb version 0.16.4"
      ],
      "text/plain": [
       "<IPython.core.display.HTML object>"
      ]
     },
     "metadata": {},
     "output_type": "display_data"
    },
    {
     "data": {
      "text/html": [
       "Run data is saved locally in <code>/home/mattia/Desktop/plane_detection/notebooks/wandb/run-20240314_160050-fhcuabtg</code>"
      ],
      "text/plain": [
       "<IPython.core.display.HTML object>"
      ]
     },
     "metadata": {},
     "output_type": "display_data"
    },
    {
     "data": {
      "text/html": [
       "Syncing run <strong><a href='https://wandb.ai/mattiaduso/my-awesome-project/runs/fhcuabtg' target=\"_blank\">maple-square-18</a></strong> to <a href='https://wandb.ai/mattiaduso/my-awesome-project' target=\"_blank\">Weights & Biases</a> (<a href='https://wandb.me/run' target=\"_blank\">docs</a>)<br/>"
      ],
      "text/plain": [
       "<IPython.core.display.HTML object>"
      ]
     },
     "metadata": {},
     "output_type": "display_data"
    },
    {
     "data": {
      "text/html": [
       " View project at <a href='https://wandb.ai/mattiaduso/my-awesome-project' target=\"_blank\">https://wandb.ai/mattiaduso/my-awesome-project</a>"
      ],
      "text/plain": [
       "<IPython.core.display.HTML object>"
      ]
     },
     "metadata": {},
     "output_type": "display_data"
    },
    {
     "data": {
      "text/html": [
       " View run at <a href='https://wandb.ai/mattiaduso/my-awesome-project/runs/fhcuabtg' target=\"_blank\">https://wandb.ai/mattiaduso/my-awesome-project/runs/fhcuabtg</a>"
      ],
      "text/plain": [
       "<IPython.core.display.HTML object>"
      ]
     },
     "metadata": {},
     "output_type": "display_data"
    },
    {
     "data": {
      "application/vnd.jupyter.widget-view+json": {
       "model_id": "afdd5dfd09b942bfb5e6441bf95c17d3",
       "version_major": 2,
       "version_minor": 0
      },
      "text/plain": [
       "  0%|          | 0/10 [00:00<?, ?it/s]"
      ]
     },
     "metadata": {},
     "output_type": "display_data"
    },
    {
     "name": "stderr",
     "output_type": "stream",
     "text": [
      "/home/mattia/miniconda3/lib/python3.12/site-packages/torch/nn/modules/conv.py:456: UserWarning: Applied workaround for CuDNN issue, install nvrtc.so (Triggered internally at ../aten/src/ATen/native/cudnn/Conv_v8.cpp:80.)\n",
      "  return F.conv2d(input, weight, bias, self.stride,\n"
     ]
    },
    {
     "data": {
      "application/vnd.jupyter.widget-view+json": {
       "model_id": "ce4b80f6742443d69265e7a7e80d1941",
       "version_major": 2,
       "version_minor": 0
      },
      "text/plain": [
       "VBox(children=(Label(value='0.013 MB of 0.013 MB uploaded\\r'), FloatProgress(value=1.0, max=1.0)))"
      ]
     },
     "metadata": {},
     "output_type": "display_data"
    },
    {
     "data": {
      "text/html": [
       "<style>\n",
       "    table.wandb td:nth-child(1) { padding: 0 10px; text-align: left ; width: auto;} td:nth-child(2) {text-align: left ; width: 100%}\n",
       "    .wandb-row { display: flex; flex-direction: row; flex-wrap: wrap; justify-content: flex-start; width: 100% }\n",
       "    .wandb-col { display: flex; flex-direction: column; flex-basis: 100%; flex: 1; padding: 10px; }\n",
       "    </style>\n",
       "<div class=\"wandb-row\"><div class=\"wandb-col\"><h3>Run history:</h3><br/><table class=\"wandb\"><tr><td>loss</td><td>█▅▂▁▁▁▁▁▁▁</td></tr></table><br/></div><div class=\"wandb-col\"><h3>Run summary:</h3><br/><table class=\"wandb\"><tr><td>loss</td><td>0.03763</td></tr></table><br/></div></div>"
      ],
      "text/plain": [
       "<IPython.core.display.HTML object>"
      ]
     },
     "metadata": {},
     "output_type": "display_data"
    },
    {
     "data": {
      "text/html": [
       " View run <strong style=\"color:#cdcd00\">maple-square-18</strong> at: <a href='https://wandb.ai/mattiaduso/my-awesome-project/runs/fhcuabtg' target=\"_blank\">https://wandb.ai/mattiaduso/my-awesome-project/runs/fhcuabtg</a><br/>Synced 6 W&B file(s), 0 media file(s), 0 artifact file(s) and 0 other file(s)"
      ],
      "text/plain": [
       "<IPython.core.display.HTML object>"
      ]
     },
     "metadata": {},
     "output_type": "display_data"
    },
    {
     "data": {
      "text/html": [
       "Find logs at: <code>./wandb/run-20240314_160050-fhcuabtg/logs</code>"
      ],
      "text/plain": [
       "<IPython.core.display.HTML object>"
      ]
     },
     "metadata": {},
     "output_type": "display_data"
    }
   ],
   "source": [
    "# start a new wandb run to track this script\n",
    "wandb.init(project=\"my-awesome-project\", config=config, mode=\"online\", settings=wandb.Settings(disable_job_creation=True)) # mode: [online, disabled]\n",
    "    \n",
    "# simulate training\n",
    "epochs = config[\"training\"][\"epochs\"]\n",
    "\n",
    "model = model.to(device)\n",
    "for epoch in tqdm(range(epochs)):\n",
    "    loss = train_one_epoch(model, train_loader, loss_fn, optimizer, scheduler)\n",
    "    #acc  = evaluate(model, validation_loader)\n",
    "    # log metrics to wandb\n",
    "    wandb.log({\"loss\": loss})\n",
    "    \n",
    "# [optional] finish the wandb run, necessary in notebooks\n",
    "wandb.finish()"
   ]
  },
  {
   "cell_type": "code",
   "execution_count": null,
   "metadata": {},
   "outputs": [],
   "source": []
  }
 ],
 "metadata": {
  "kernelspec": {
   "display_name": "base",
   "language": "python",
   "name": "python3"
  },
  "language_info": {
   "codemirror_mode": {
    "name": "ipython",
    "version": 3
   },
   "file_extension": ".py",
   "mimetype": "text/x-python",
   "name": "python",
   "nbconvert_exporter": "python",
   "pygments_lexer": "ipython3",
   "version": "3.12.2"
  }
 },
 "nbformat": 4,
 "nbformat_minor": 2
}
